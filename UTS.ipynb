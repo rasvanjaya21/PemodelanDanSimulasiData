{
 "cells": [
  {
   "cell_type": "markdown",
   "metadata": {},
   "source": [
    "#### TUGAS UTS Pemodelan dan Simulasi Data\n",
    "###### Dosen Pemangku : Ibu Vinna Rahmayanti"
   ]
  },
  {
   "cell_type": "markdown",
   "metadata": {},
   "source": [
    "| **NAMA** | Yusril Aminuddin |\n",
    "|---|---|\n",
    "| **NIM** | 201910370311366 |\n",
    "| **KELAS** | PSD D |"
   ]
  },
  {
   "cell_type": "markdown",
   "metadata": {},
   "source": [
    "#### I. Soal Nomor 1"
   ]
  },
  {
   "cell_type": "markdown",
   "metadata": {},
   "source": [
    "###### Sebuah bakery menyediakan berbagai jenis makanan ringan setiap harinya. Owner bakery tersebut ingin mengetahui berapa rata-rata penjualan donat yang diproduksi setiap harinya. Data yang dapat diketahui dari bakery tersebut adalah data jumlah customer yang membeli donat dengan mengikuti aturan matematika sebagai berikut :"
   ]
  },
  {
   "cell_type": "markdown",
   "metadata": {},
   "source": [
    "![Example1](assets/1.png)"
   ]
  },
  {
   "cell_type": "markdown",
   "metadata": {},
   "source": [
    "###### Customer yang membeli 1, 2, 3, atau 4 lusin donat mengikuti distribusi peluang berikut\n"
   ]
  },
  {
   "cell_type": "markdown",
   "metadata": {},
   "source": [
    "![Example2](assets/2.png)"
   ]
  },
  {
   "cell_type": "markdown",
   "metadata": {},
   "source": [
    "###### Selusin donat dijual sebesar 85.000 rupiah. Bakery membutuhkan 56.000 rupiah untuk membuat selusin donat. Setiap donat yang tidak habis terjual di hari tersebut maka dijual dengan setengah harga setiap 1 donatnya. Buatlah simulasi 100 hari. Kemudian jawab pertanyaan berikut"
   ]
  },
  {
   "cell_type": "markdown",
   "metadata": {},
   "source": [
    "###### a. Rata-rata penjualan donat setiap hari (satuan : lusin)\n",
    "###### b. Rata-rata penjualan donat yang tidak habis terjual\n",
    "###### c. Rata-rata customer membeli berapa lusin donat\n",
    "###### d. Simulasi dengan Excel dan perhitungan manual\n",
    "###### e. Simulasi dengan python\n",
    "###### f. Jelaskan perbedaan dan keunikan dari simulasi yang telah kalian buat."
   ]
  },
  {
   "cell_type": "markdown",
   "metadata": {},
   "source": [
    "#### II. Soal Nomor 2"
   ]
  },
  {
   "cell_type": "markdown",
   "metadata": {},
   "source": [
    "###### Download file csv yang sudah saya upload di googleclasroom. Kerjakan"
   ]
  },
  {
   "cell_type": "markdown",
   "metadata": {},
   "source": [
    "###### a. Distribusi apa yang sesuai untuk menggambarkan keadaan covid global? Silahkan tunjukkan hasil dan penjelasan selengkap-lengkapnya. Gunakan python untuk menentukan output distribusi\n",
    "###### b. Distribusi apa yang sesuai untuk menggambarkan keadaan covid China (pilih salah satu kota di China)? Silahkan tunjukkan hasil dan penjelasan selengkap-lengkapnya.\n",
    "###### c. Distribusi apa yang sesuai untuk menggambarkan keadaan covid Indonesia? Silahkan tunjukkan hasil dan penjelasan selengkap-lengkapnya.\n",
    "###### d. Hitung rata-rata, ragam, maksimal, minimal berdasarkan masing-masing distribusi yang telah kalian jabarkan di jawaban a dan b untuk kasus covid global, China, dan Indonesia."
   ]
  },
  {
   "cell_type": "markdown",
   "metadata": {},
   "source": [
    "#### III. Jawaban Nomor 1"
   ]
  },
  {
   "cell_type": "code",
   "execution_count": 1,
   "metadata": {},
   "outputs": [
    {
     "name": "stdout",
     "output_type": "stream",
     "text": [
      "Sukses membuat nilai random customer per hari selama 100 hari\n"
     ]
    }
   ],
   "source": [
    "# membuat model excel terlebih dahulu\n",
    "# mencari jumlah customer perhari : yang diketahui dari tabel pada soal\n",
    "\n",
    "# import library random sebagai Random Number Generator\n",
    "import random\n",
    "\n",
    "# implementasi menggunakan list dengan kriteria :\n",
    "# list customerPerDay = jumlah customer perhari, dan list probability = peluang\n",
    "customerPerDay = [8, 10, 12, 14]\n",
    "probability = [0.35, 0.30, 0.25, 0.10]\n",
    "\n",
    "# variable untuk menampung jumlah customer per hari\n",
    "generatedCustomerPerDay = []\n",
    "\n",
    "# dengan studi kasus selama 100 hari\n",
    "totalDays = 100\n",
    "\n",
    "# perulangan membuat list generatedCustomerPerDay selama 100 hari menggunakan library RNG\n",
    "for i in range(totalDays):\n",
    "    generatedCustomerPerDay.append(random.choices(customerPerDay, probability))\n",
    "\n",
    "# delistify generatedCustomerPerDay\n",
    "generatedCustomerPerDay = [item for sublist in generatedCustomerPerDay for item in sublist]\n",
    "\n",
    "# print sukses\n",
    "print(\"Sukses membuat nilai random customer per hari selama 100 hari\")"
   ]
  },
  {
   "cell_type": "code",
   "execution_count": 2,
   "metadata": {},
   "outputs": [
    {
     "name": "stdout",
     "output_type": "stream",
     "text": [
      "Sukses membuat nilai random donat perlusin perhari percustomer selama 100 hari\n"
     ]
    }
   ],
   "source": [
    "# mencari jumlah donat perlusin yang diorder per customer : yang diketahui dari tabel pada soal\n",
    "\n",
    "# import library random sebagai Random Number Generator\n",
    "import random\n",
    "\n",
    "# implementasi menggunakan list dengan kriteria :\n",
    "# list donutPerLoucineOrderedByCustomer = jumlah donat perlusin perhari, dan list probability = peluang\n",
    "donutPerLoucineOrderedByCustomer = [1, 2, 3, 4]\n",
    "probability = [0.4, 0.4, 0.2, 0.2]\n",
    "\n",
    "# dengan studi kasus selama 100 hari\n",
    "totalDays = 100\n",
    "\n",
    "# perulangan membuat list generatedDonutPerLoucineOrderedByCustomer selama 100 hari menggunakan library RNG\n",
    "generatedDonutPerLoucineOrderedByCustomer = []\n",
    "for i in range(totalDays):\n",
    "    generatedDonutPerLoucineOrderedByCustomer.append(random.choices(donutPerLoucineOrderedByCustomer, probability))\n",
    "\n",
    "# delistify generatedDonutPerLoucineOrderedByCustomer\n",
    "generatedDonutPerLoucineOrderedByCustomer = [item for sublist in generatedDonutPerLoucineOrderedByCustomer for item in sublist]\n",
    "\n",
    "# print sukses\n",
    "print(\"Sukses membuat nilai random donat perlusin perhari percustomer selama 100 hari\")"
   ]
  },
  {
   "cell_type": "markdown",
   "metadata": {},
   "source": [
    "###### a. Rata-rata penjualan donat setiap hari (satuan : lusin) ✅"
   ]
  },
  {
   "cell_type": "code",
   "execution_count": 3,
   "metadata": {},
   "outputs": [
    {
     "name": "stdout",
     "output_type": "stream",
     "text": [
      "Rata - rata penjualan donat setiap hari :  2.05 lusin\n"
     ]
    }
   ],
   "source": [
    "# total lusin untuk perhitungan rata - rata\n",
    "totalDonat = sum(generatedDonutPerLoucineOrderedByCustomer)\n",
    "\n",
    "# rata - rata penjualan donat setiap hari (satuan lusin)\n",
    "averageDonutPerLoucinePerDay =  totalDonat / totalDays\n",
    "print(\"Rata - rata penjualan donat setiap hari : \", averageDonutPerLoucinePerDay, \"lusin\")"
   ]
  },
  {
   "cell_type": "markdown",
   "metadata": {},
   "source": [
    "###### b. Rata-rata penjualan donat yang tidak habis terjual ✅"
   ]
  },
  {
   "cell_type": "code",
   "execution_count": null,
   "metadata": {},
   "outputs": [],
   "source": []
  },
  {
   "cell_type": "markdown",
   "metadata": {},
   "source": [
    "###### c. Rata-rata customer membeli berapa lusin donat ✅"
   ]
  },
  {
   "cell_type": "code",
   "execution_count": null,
   "metadata": {},
   "outputs": [],
   "source": []
  },
  {
   "cell_type": "markdown",
   "metadata": {},
   "source": [
    "###### d. Simulasi dengan Excel dan Perhitungan Manual ✅"
   ]
  },
  {
   "cell_type": "code",
   "execution_count": null,
   "metadata": {},
   "outputs": [],
   "source": [
    "# ada di file excel bernama \"Simulasi Excel.xlsx\""
   ]
  },
  {
   "cell_type": "markdown",
   "metadata": {},
   "source": [
    "###### e. Simulasi dengan Python"
   ]
  },
  {
   "cell_type": "code",
   "execution_count": 4,
   "metadata": {},
   "outputs": [
    {
     "name": "stdout",
     "output_type": "stream",
     "text": [
      "HASIL GENERATE RANDOM NUMBER\n",
      "Jumlah customer perhari selama 100 hari :  [8, 8, 10, 10, 8, 12, 8, 10, 12, 14, 8, 10, 10, 10, 10, 12, 10, 8, 10, 8, 14, 8, 8, 8, 8, 10, 12, 14, 12, 10, 10, 14, 12, 8, 8, 14, 10, 8, 12, 12, 10, 12, 8, 10, 8, 12, 8, 14, 8, 8, 10, 8, 10, 8, 12, 8, 12, 12, 8, 8, 12, 8, 8, 10, 14, 8, 10, 10, 10, 8, 10, 10, 8, 14, 10, 10, 14, 8, 8, 12, 10, 10, 12, 12, 8, 10, 10, 8, 10, 8, 10, 14, 12, 12, 8, 14, 8, 8, 12, 10]\n",
      "\n",
      "SUMMARY HASIL GENERATE RANDOM NUMBER\n",
      "Simulasi selama : 100  hari\n",
      "8 customer muncul selama 100 hari :  37 x\n",
      "10 customer muncul selama 100 hari :  32 x\n",
      "12 customer muncul selama 100 hari :  20 x\n",
      "14 customer muncul selama 100 hari :  11 x\n",
      "Total customer selama 100 hari :  1010 customer\n"
     ]
    }
   ],
   "source": [
    "# simulasi jumlah customer perhari : yang didapat dari library RNG\n",
    "\n",
    "# melihat hasil\n",
    "print(\"HASIL GENERATE RANDOM NUMBER\")\n",
    "print(\"Jumlah customer perhari selama 100 hari : \", generatedCustomerPerDay)\n",
    "print()\n",
    "\n",
    "print(\"SUMMARY HASIL GENERATE RANDOM NUMBER\")\n",
    "\n",
    "# simulasi selama 100 hari\n",
    "print(\"Simulasi selama :\", totalDays, \" hari\")\n",
    "\n",
    "# total \"8\" customer\n",
    "total8 = generatedCustomerPerDay.count(8)\n",
    "print(\"8 customer muncul selama 100 hari : \", total8, \"x\")\n",
    "\n",
    "# total \"10\" customer\n",
    "total10 = generatedCustomerPerDay.count(10)\n",
    "print(\"10 customer muncul selama 100 hari : \", total10, \"x\")\n",
    "\n",
    "# total \"12\" customer\n",
    "total12 = generatedCustomerPerDay.count(12)\n",
    "print(\"12 customer muncul selama 100 hari : \", total12, \"x\")\n",
    "\n",
    "# total \"14\" customer\n",
    "total14 = generatedCustomerPerDay.count(14)\n",
    "print(\"14 customer muncul selama 100 hari : \", total14, \"x\")\n",
    "\n",
    "# total customer\n",
    "totalCustomer = sum(generatedCustomerPerDay)\n",
    "print(\"Total customer selama 100 hari : \", totalCustomer, \"customer\")"
   ]
  },
  {
   "cell_type": "code",
   "execution_count": 5,
   "metadata": {},
   "outputs": [
    {
     "name": "stdout",
     "output_type": "stream",
     "text": [
      "HASIL GENERATE RANDOM NUMBER\n",
      "Jumlah donat perlusin percustomer perhari selama 100 hari :  [1, 1, 1, 2, 1, 3, 1, 2, 1, 3, 2, 2, 2, 3, 4, 2, 3, 2, 4, 4, 2, 1, 1, 4, 3, 1, 4, 4, 3, 4, 2, 2, 2, 3, 1, 3, 2, 1, 1, 1, 1, 1, 1, 2, 2, 4, 1, 2, 1, 3, 4, 2, 1, 1, 2, 2, 4, 3, 2, 1, 2, 3, 2, 4, 1, 1, 1, 2, 1, 3, 2, 1, 3, 2, 2, 3, 2, 1, 1, 1, 2, 1, 1, 4, 2, 1, 3, 2, 2, 2, 1, 2, 2, 1, 2, 2, 1, 4, 1, 2]\n",
      "\n",
      "SUMMARY HASIL GENERATE RANDOM NUMBER\n",
      "Simulasi selama : 100  hari\n",
      "1 lusin donat muncul selama 100 hari :  36 x\n",
      "2 lusin donat muncul selama 100 hari :  36 x\n",
      "3 lusin donat muncul selama 100 hari :  15 x\n",
      "4 lusin donat muncul selama 100 hari :  13 x\n",
      "Total donat selama 100 hari :  205 lusin\n"
     ]
    }
   ],
   "source": [
    "# simulasi jumlah donat perlusin yang diorder per customer per hari : yang didapat dari library RNG\n",
    "\n",
    "# melihat hasil\n",
    "print(\"HASIL GENERATE RANDOM NUMBER\")\n",
    "print(\"Jumlah donat perlusin percustomer perhari selama 100 hari : \", generatedDonutPerLoucineOrderedByCustomer)\n",
    "print()\n",
    "\n",
    "print(\"SUMMARY HASIL GENERATE RANDOM NUMBER\")\n",
    "\n",
    "# simulasi selama 100 hari\n",
    "print(\"Simulasi selama :\", totalDays, \" hari\")\n",
    "\n",
    "# total \"1\" lusin donat\n",
    "total1 = generatedDonutPerLoucineOrderedByCustomer.count(1)\n",
    "print(\"1 lusin donat muncul selama 100 hari : \", total1, \"x\")\n",
    "\n",
    "# total \"2\" lusin donat\n",
    "total2 = generatedDonutPerLoucineOrderedByCustomer.count(2)\n",
    "print(\"2 lusin donat muncul selama 100 hari : \", total2, \"x\")\n",
    "\n",
    "# total \"3\" lusin donat\n",
    "total3 = generatedDonutPerLoucineOrderedByCustomer.count(3)\n",
    "print(\"3 lusin donat muncul selama 100 hari : \", total3, \"x\")\n",
    "\n",
    "# total \"4\" lusin donat\n",
    "total4 = generatedDonutPerLoucineOrderedByCustomer.count(4)\n",
    "print(\"4 lusin donat muncul selama 100 hari : \", total4, \"x\")\n",
    "\n",
    "# total donat\n",
    "totalDonat = sum(generatedDonutPerLoucineOrderedByCustomer)\n",
    "print(\"Total donat selama 100 hari : \", totalDonat, \"lusin\")"
   ]
  },
  {
   "cell_type": "code",
   "execution_count": 9,
   "metadata": {},
   "outputs": [
    {
     "data": {
      "text/html": [
       "<div>\n",
       "<style scoped>\n",
       "    .dataframe tbody tr th:only-of-type {\n",
       "        vertical-align: middle;\n",
       "    }\n",
       "\n",
       "    .dataframe tbody tr th {\n",
       "        vertical-align: top;\n",
       "    }\n",
       "\n",
       "    .dataframe thead th {\n",
       "        text-align: right;\n",
       "    }\n",
       "</style>\n",
       "<table border=\"1\" class=\"dataframe\">\n",
       "  <thead>\n",
       "    <tr style=\"text-align: right;\">\n",
       "      <th></th>\n",
       "      <th>hari</th>\n",
       "    </tr>\n",
       "  </thead>\n",
       "  <tbody>\n",
       "    <tr>\n",
       "      <th>0</th>\n",
       "      <td>1</td>\n",
       "    </tr>\n",
       "    <tr>\n",
       "      <th>1</th>\n",
       "      <td>2</td>\n",
       "    </tr>\n",
       "    <tr>\n",
       "      <th>2</th>\n",
       "      <td>3</td>\n",
       "    </tr>\n",
       "    <tr>\n",
       "      <th>3</th>\n",
       "      <td>4</td>\n",
       "    </tr>\n",
       "    <tr>\n",
       "      <th>4</th>\n",
       "      <td>5</td>\n",
       "    </tr>\n",
       "    <tr>\n",
       "      <th>...</th>\n",
       "      <td>...</td>\n",
       "    </tr>\n",
       "    <tr>\n",
       "      <th>95</th>\n",
       "      <td>96</td>\n",
       "    </tr>\n",
       "    <tr>\n",
       "      <th>96</th>\n",
       "      <td>97</td>\n",
       "    </tr>\n",
       "    <tr>\n",
       "      <th>97</th>\n",
       "      <td>98</td>\n",
       "    </tr>\n",
       "    <tr>\n",
       "      <th>98</th>\n",
       "      <td>99</td>\n",
       "    </tr>\n",
       "    <tr>\n",
       "      <th>99</th>\n",
       "      <td>100</td>\n",
       "    </tr>\n",
       "  </tbody>\n",
       "</table>\n",
       "<p>100 rows × 1 columns</p>\n",
       "</div>"
      ],
      "text/plain": [
       "    hari\n",
       "0      1\n",
       "1      2\n",
       "2      3\n",
       "3      4\n",
       "4      5\n",
       "..   ...\n",
       "95    96\n",
       "96    97\n",
       "97    98\n",
       "98    99\n",
       "99   100\n",
       "\n",
       "[100 rows x 1 columns]"
      ]
     },
     "execution_count": 9,
     "metadata": {},
     "output_type": "execute_result"
    }
   ],
   "source": [
    "# menampilkan dataset awal\n",
    "\n",
    "# import library pandas sebagai library dataframe\n",
    "import pandas as pd\n",
    "\n",
    "# read csv file \n",
    "df = pd.read_csv('Dataset Donat/donat.csv', sep=';')\n",
    "\n",
    "df.head(100)"
   ]
  },
  {
   "cell_type": "code",
   "execution_count": 16,
   "metadata": {},
   "outputs": [
    {
     "data": {
      "text/html": [
       "<div>\n",
       "<style scoped>\n",
       "    .dataframe tbody tr th:only-of-type {\n",
       "        vertical-align: middle;\n",
       "    }\n",
       "\n",
       "    .dataframe tbody tr th {\n",
       "        vertical-align: top;\n",
       "    }\n",
       "\n",
       "    .dataframe thead th {\n",
       "        text-align: right;\n",
       "    }\n",
       "</style>\n",
       "<table border=\"1\" class=\"dataframe\">\n",
       "  <thead>\n",
       "    <tr style=\"text-align: right;\">\n",
       "      <th></th>\n",
       "      <th>hari</th>\n",
       "      <th>customer_per_day</th>\n",
       "      <th>loucine_per_day</th>\n",
       "    </tr>\n",
       "  </thead>\n",
       "  <tbody>\n",
       "    <tr>\n",
       "      <th>0</th>\n",
       "      <td>1</td>\n",
       "      <td>8</td>\n",
       "      <td>1</td>\n",
       "    </tr>\n",
       "    <tr>\n",
       "      <th>1</th>\n",
       "      <td>2</td>\n",
       "      <td>8</td>\n",
       "      <td>1</td>\n",
       "    </tr>\n",
       "    <tr>\n",
       "      <th>2</th>\n",
       "      <td>3</td>\n",
       "      <td>10</td>\n",
       "      <td>1</td>\n",
       "    </tr>\n",
       "    <tr>\n",
       "      <th>3</th>\n",
       "      <td>4</td>\n",
       "      <td>10</td>\n",
       "      <td>2</td>\n",
       "    </tr>\n",
       "    <tr>\n",
       "      <th>4</th>\n",
       "      <td>5</td>\n",
       "      <td>8</td>\n",
       "      <td>1</td>\n",
       "    </tr>\n",
       "    <tr>\n",
       "      <th>...</th>\n",
       "      <td>...</td>\n",
       "      <td>...</td>\n",
       "      <td>...</td>\n",
       "    </tr>\n",
       "    <tr>\n",
       "      <th>95</th>\n",
       "      <td>96</td>\n",
       "      <td>14</td>\n",
       "      <td>2</td>\n",
       "    </tr>\n",
       "    <tr>\n",
       "      <th>96</th>\n",
       "      <td>97</td>\n",
       "      <td>8</td>\n",
       "      <td>1</td>\n",
       "    </tr>\n",
       "    <tr>\n",
       "      <th>97</th>\n",
       "      <td>98</td>\n",
       "      <td>8</td>\n",
       "      <td>4</td>\n",
       "    </tr>\n",
       "    <tr>\n",
       "      <th>98</th>\n",
       "      <td>99</td>\n",
       "      <td>12</td>\n",
       "      <td>1</td>\n",
       "    </tr>\n",
       "    <tr>\n",
       "      <th>99</th>\n",
       "      <td>100</td>\n",
       "      <td>10</td>\n",
       "      <td>2</td>\n",
       "    </tr>\n",
       "  </tbody>\n",
       "</table>\n",
       "<p>100 rows × 3 columns</p>\n",
       "</div>"
      ],
      "text/plain": [
       "    hari  customer_per_day  loucine_per_day\n",
       "0      1                 8                1\n",
       "1      2                 8                1\n",
       "2      3                10                1\n",
       "3      4                10                2\n",
       "4      5                 8                1\n",
       "..   ...               ...              ...\n",
       "95    96                14                2\n",
       "96    97                 8                1\n",
       "97    98                 8                4\n",
       "98    99                12                1\n",
       "99   100                10                2\n",
       "\n",
       "[100 rows x 3 columns]"
      ]
     },
     "execution_count": 16,
     "metadata": {},
     "output_type": "execute_result"
    }
   ],
   "source": [
    "# append customerPerDay dan loucinePerDay ke data frame\n",
    "df['customer_per_day'] = generatedCustomerPerDay\n",
    "df['loucine_per_day'] = generatedDonutPerLoucineOrderedByCustomer\n",
    "\n",
    "df.head(100)"
   ]
  },
  {
   "cell_type": "code",
   "execution_count": 18,
   "metadata": {},
   "outputs": [],
   "source": [
    "# menyimpan hasil dataframe ke file csv\n",
    "df.to_csv('Dataset Donat/output_donat.csv', sep=';', index=False)"
   ]
  },
  {
   "cell_type": "markdown",
   "metadata": {},
   "source": [
    "#### IV. Jawaban Nomor 2"
   ]
  },
  {
   "cell_type": "markdown",
   "metadata": {},
   "source": []
  },
  {
   "cell_type": "code",
   "execution_count": null,
   "metadata": {},
   "outputs": [],
   "source": []
  }
 ],
 "metadata": {
  "interpreter": {
   "hash": "12423ea4f6087177fed350966864bfad756167214050108e94400242cdddf092"
  },
  "kernelspec": {
   "display_name": "Python 3.10.1 64-bit",
   "language": "python",
   "name": "python3"
  },
  "language_info": {
   "codemirror_mode": {
    "name": "ipython",
    "version": 3
   },
   "file_extension": ".py",
   "mimetype": "text/x-python",
   "name": "python",
   "nbconvert_exporter": "python",
   "pygments_lexer": "ipython3",
   "version": "3.10.1"
  },
  "orig_nbformat": 4
 },
 "nbformat": 4,
 "nbformat_minor": 2
}
