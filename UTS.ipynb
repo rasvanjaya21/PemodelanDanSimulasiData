{
 "cells": [
  {
   "cell_type": "markdown",
   "metadata": {},
   "source": [
    "#### TUGAS UTS Pemodelan dan Simulasi Data\n",
    "###### Dosen Pemangku : Ibu Vinna Rahmayanti"
   ]
  },
  {
   "cell_type": "markdown",
   "metadata": {},
   "source": [
    "| **NAMA** | Yusril Aminuddin |\n",
    "|---|---|\n",
    "| **NIM** | 201910370311366 |\n",
    "| **KELAS** | PSD D |"
   ]
  },
  {
   "cell_type": "markdown",
   "metadata": {},
   "source": [
    "#### I. Soal Nomor 1"
   ]
  },
  {
   "cell_type": "markdown",
   "metadata": {},
   "source": [
    "###### Sebuah bakery menyediakan berbagai jenis makanan ringan setiap harinya. Owner bakery tersebut ingin mengetahui berapa rata-rata penjualan donat yang diproduksi setiap harinya. Data yang dapat diketahui dari bakery tersebut adalah data jumlah customer yang membeli donat dengan mengikuti aturan matematika sebagai berikut :"
   ]
  },
  {
   "cell_type": "markdown",
   "metadata": {},
   "source": [
    "![Example1](assets/1.png)"
   ]
  },
  {
   "cell_type": "markdown",
   "metadata": {},
   "source": [
    "###### Customer yang membeli 1, 2, 3, atau 4 lusin donat mengikuti distribusi peluang berikut\n"
   ]
  },
  {
   "cell_type": "markdown",
   "metadata": {},
   "source": [
    "![Example2](assets/2.png)"
   ]
  },
  {
   "cell_type": "markdown",
   "metadata": {},
   "source": [
    "###### Selusin donat dijual sebesar 85.000 rupiah. Bakery membutuhkan 56.000 rupiah untuk membuat selusin donat. Setiap donat yang tidak habis terjual di hari tersebut maka dijual dengan setengah harga setiap 1 donatnya. Buatlah simulasi 100 hari. Kemudian jawab pertanyaan berikut"
   ]
  },
  {
   "cell_type": "markdown",
   "metadata": {},
   "source": [
    "###### a. Rata-rata penjualan donat setiap hari (satuan : lusin)\n",
    "###### b. Rata-rata penjualan donat yang tidak habis terjual\n",
    "###### c. Rata-rata customer membeli berapa lusin donat\n",
    "###### d. Simulasi dengan Excel dan perhitungan manual\n",
    "###### e. Simulasi dengan python\n",
    "###### f. Jelaskan perbedaan dan keunikan dari simulasi yang telah kalian buat."
   ]
  },
  {
   "cell_type": "markdown",
   "metadata": {},
   "source": [
    "#### II. Soal Nomor 2"
   ]
  },
  {
   "cell_type": "markdown",
   "metadata": {},
   "source": [
    "###### Download file csv yang sudah saya upload di googleclasroom. Kerjakan"
   ]
  },
  {
   "cell_type": "markdown",
   "metadata": {},
   "source": [
    "###### a. Distribusi apa yang sesuai untuk menggambarkan keadaan covid global? Silahkan tunjukkan hasil dan penjelasan selengkap-lengkapnya. Gunakan python untuk menentukan output distribusi\n",
    "###### b. Distribusi apa yang sesuai untuk menggambarkan keadaan covid China (pilih salah satu kota di China)? Silahkan tunjukkan hasil dan penjelasan selengkap-lengkapnya.\n",
    "###### c. Distribusi apa yang sesuai untuk menggambarkan keadaan covid Indonesia? Silahkan tunjukkan hasil dan penjelasan selengkap-lengkapnya.\n",
    "###### d. Hitung rata-rata, ragam, maksimal, minimal berdasarkan masing-masing distribusi yang telah kalian jabarkan di jawaban a dan b untuk kasus covid global, China, dan Indonesia."
   ]
  },
  {
   "cell_type": "markdown",
   "metadata": {},
   "source": [
    "#### III. Jawaban"
   ]
  },
  {
   "cell_type": "markdown",
   "metadata": {},
   "source": []
  },
  {
   "cell_type": "code",
   "execution_count": null,
   "metadata": {},
   "outputs": [],
   "source": []
  }
 ],
 "metadata": {
  "language_info": {
   "name": "python"
  },
  "orig_nbformat": 4
 },
 "nbformat": 4,
 "nbformat_minor": 2
}
