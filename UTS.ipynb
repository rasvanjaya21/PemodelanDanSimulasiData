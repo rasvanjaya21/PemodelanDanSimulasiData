{
 "cells": [
  {
   "cell_type": "markdown",
   "metadata": {},
   "source": [
    "#### TUGAS UTS Pemodelan dan Simulasi Data\n",
    "###### Dosen Pemangku : Ibu Vinna Rahmayanti"
   ]
  },
  {
   "cell_type": "markdown",
   "metadata": {},
   "source": [
    "| **NAMA** | Yusril Aminuddin |\n",
    "|---|---|\n",
    "| **NIM** | 201910370311366 |\n",
    "| **KELAS** | PSD D |"
   ]
  },
  {
   "cell_type": "markdown",
   "metadata": {},
   "source": [
    "#### I. Soal Nomor 1"
   ]
  },
  {
   "cell_type": "markdown",
   "metadata": {},
   "source": [
    "###### Sebuah bakery menyediakan berbagai jenis makanan ringan setiap harinya. Owner bakery tersebut ingin mengetahui berapa rata-rata penjualan donat yang diproduksi setiap harinya. Data yang dapat diketahui dari bakery tersebut adalah data jumlah customer yang membeli donat dengan mengikuti aturan matematika sebagai berikut :"
   ]
  },
  {
   "cell_type": "markdown",
   "metadata": {},
   "source": [
    "![Example1](assets/1.png)"
   ]
  },
  {
   "cell_type": "markdown",
   "metadata": {},
   "source": [
    "###### Customer yang membeli 1, 2, 3, atau 4 lusin donat mengikuti distribusi peluang berikut\n"
   ]
  },
  {
   "cell_type": "markdown",
   "metadata": {},
   "source": [
    "![Example2](assets/2.png)"
   ]
  },
  {
   "cell_type": "markdown",
   "metadata": {},
   "source": [
    "###### Selusin donat dijual sebesar 85.000 rupiah. Bakery membutuhkan 56.000 rupiah untuk membuat selusin donat. Setiap donat yang tidak habis terjual di hari tersebut maka dijual dengan setengah harga setiap 1 donatnya. Buatlah simulasi 100 hari. Kemudian jawab pertanyaan berikut"
   ]
  },
  {
   "cell_type": "markdown",
   "metadata": {},
   "source": [
    "###### a. Rata-rata penjualan donat setiap hari (satuan : lusin)\n",
    "###### b. Rata-rata penjualan donat yang tidak habis terjual\n",
    "###### c. Rata-rata customer membeli berapa lusin donat\n",
    "###### d. Simulasi dengan Excel dan perhitungan manual\n",
    "###### e. Simulasi dengan python\n",
    "###### f. Jelaskan perbedaan dan keunikan dari simulasi yang telah kalian buat."
   ]
  },
  {
   "cell_type": "markdown",
   "metadata": {},
   "source": [
    "#### II. Soal Nomor 2"
   ]
  },
  {
   "cell_type": "markdown",
   "metadata": {},
   "source": [
    "###### Download file csv yang sudah saya upload di googleclasroom. Kerjakan"
   ]
  },
  {
   "cell_type": "markdown",
   "metadata": {},
   "source": [
    "###### a. Distribusi apa yang sesuai untuk menggambarkan keadaan covid global? Silahkan tunjukkan hasil dan penjelasan selengkap-lengkapnya. Gunakan python untuk menentukan output distribusi\n",
    "###### b. Distribusi apa yang sesuai untuk menggambarkan keadaan covid China (pilih salah satu kota di China)? Silahkan tunjukkan hasil dan penjelasan selengkap-lengkapnya.\n",
    "###### c. Distribusi apa yang sesuai untuk menggambarkan keadaan covid Indonesia? Silahkan tunjukkan hasil dan penjelasan selengkap-lengkapnya.\n",
    "###### d. Hitung rata-rata, ragam, maksimal, minimal berdasarkan masing-masing distribusi yang telah kalian jabarkan di jawaban a dan b untuk kasus covid global, China, dan Indonesia."
   ]
  },
  {
   "cell_type": "markdown",
   "metadata": {},
   "source": [
    "#### III. Jawaban Nomor 1"
   ]
  },
  {
   "cell_type": "markdown",
   "metadata": {},
   "source": [
    "###### membuat model excel terlebih dahulu secara manual, dengan attribut hari dengan value 1 - 100 (studi kasus untuk simulasi 100 hari)"
   ]
  },
  {
   "cell_type": "code",
   "execution_count": 1,
   "metadata": {},
   "outputs": [
    {
     "data": {
      "text/html": [
       "<div>\n",
       "<style scoped>\n",
       "    .dataframe tbody tr th:only-of-type {\n",
       "        vertical-align: middle;\n",
       "    }\n",
       "\n",
       "    .dataframe tbody tr th {\n",
       "        vertical-align: top;\n",
       "    }\n",
       "\n",
       "    .dataframe thead th {\n",
       "        text-align: right;\n",
       "    }\n",
       "</style>\n",
       "<table border=\"1\" class=\"dataframe\">\n",
       "  <thead>\n",
       "    <tr style=\"text-align: right;\">\n",
       "      <th></th>\n",
       "      <th>hari</th>\n",
       "    </tr>\n",
       "  </thead>\n",
       "  <tbody>\n",
       "    <tr>\n",
       "      <th>0</th>\n",
       "      <td>1</td>\n",
       "    </tr>\n",
       "    <tr>\n",
       "      <th>1</th>\n",
       "      <td>2</td>\n",
       "    </tr>\n",
       "    <tr>\n",
       "      <th>2</th>\n",
       "      <td>3</td>\n",
       "    </tr>\n",
       "    <tr>\n",
       "      <th>3</th>\n",
       "      <td>4</td>\n",
       "    </tr>\n",
       "    <tr>\n",
       "      <th>4</th>\n",
       "      <td>5</td>\n",
       "    </tr>\n",
       "    <tr>\n",
       "      <th>...</th>\n",
       "      <td>...</td>\n",
       "    </tr>\n",
       "    <tr>\n",
       "      <th>95</th>\n",
       "      <td>96</td>\n",
       "    </tr>\n",
       "    <tr>\n",
       "      <th>96</th>\n",
       "      <td>97</td>\n",
       "    </tr>\n",
       "    <tr>\n",
       "      <th>97</th>\n",
       "      <td>98</td>\n",
       "    </tr>\n",
       "    <tr>\n",
       "      <th>98</th>\n",
       "      <td>99</td>\n",
       "    </tr>\n",
       "    <tr>\n",
       "      <th>99</th>\n",
       "      <td>100</td>\n",
       "    </tr>\n",
       "  </tbody>\n",
       "</table>\n",
       "<p>100 rows × 1 columns</p>\n",
       "</div>"
      ],
      "text/plain": [
       "    hari\n",
       "0      1\n",
       "1      2\n",
       "2      3\n",
       "3      4\n",
       "4      5\n",
       "..   ...\n",
       "95    96\n",
       "96    97\n",
       "97    98\n",
       "98    99\n",
       "99   100\n",
       "\n",
       "[100 rows x 1 columns]"
      ]
     },
     "execution_count": 1,
     "metadata": {},
     "output_type": "execute_result"
    }
   ],
   "source": [
    "# menampilkan dataset awal\n",
    "\n",
    "# import library pandas sebagai library dataframe\n",
    "import pandas as pd\n",
    "\n",
    "# read csv file \n",
    "df = pd.read_csv('Dataset Donat/donat.csv', sep=';')\n",
    "\n",
    "df.head(100)"
   ]
  },
  {
   "cell_type": "markdown",
   "metadata": {},
   "source": [
    "###### mencari jumlah customer perhari yang diketahui dari tabel pada soal menggunakan Random Number Generator"
   ]
  },
  {
   "cell_type": "code",
   "execution_count": 2,
   "metadata": {},
   "outputs": [
    {
     "name": "stdout",
     "output_type": "stream",
     "text": [
      "Sukses membuat nilai random customer per hari selama 100 hari\n"
     ]
    }
   ],
   "source": [
    "# import library random sebagai Random Number Generator\n",
    "import random\n",
    "\n",
    "# implementasi menggunakan list dengan kriteria :\n",
    "# list customerPerDay = jumlah customer perhari, dan list probability = peluang\n",
    "customerPerDay = [8, 10, 12, 14]\n",
    "probability = [0.35, 0.30, 0.25, 0.10]\n",
    "\n",
    "# variable untuk menampung jumlah customer per hari\n",
    "generatedCustomerPerDay = []\n",
    "\n",
    "# dengan studi kasus selama 100 hari\n",
    "totalDays = 100\n",
    "\n",
    "# perulangan membuat list generatedCustomerPerDay selama 100 hari menggunakan library RNG\n",
    "for i in range(totalDays):\n",
    "    generatedCustomerPerDay.append(random.choices(customerPerDay, probability))\n",
    "\n",
    "# delistify generatedCustomerPerDay\n",
    "generatedCustomerPerDay = [item for sublist in generatedCustomerPerDay for item in sublist]\n",
    "\n",
    "# print sukses\n",
    "print(\"Sukses membuat nilai random customer per hari selama 100 hari\")"
   ]
  },
  {
   "cell_type": "markdown",
   "metadata": {},
   "source": [
    "###### mencari jumlah donat perlusin yang diorder per customer yang diketahui dari tabel pada soal menggunakan Random Number Generator"
   ]
  },
  {
   "cell_type": "code",
   "execution_count": 3,
   "metadata": {},
   "outputs": [
    {
     "name": "stdout",
     "output_type": "stream",
     "text": [
      "Sukses membuat nilai random donat perlusin perhari percustomer selama 100 hari\n"
     ]
    }
   ],
   "source": [
    "# import library random sebagai Random Number Generator\n",
    "import random\n",
    "\n",
    "# implementasi menggunakan list dengan kriteria :\n",
    "# list donutPerLoucineOrderedByCustomer = jumlah donat perlusin perhari, dan list probability = peluang\n",
    "donutPerLoucineOrderedByCustomer = [1, 2, 3, 4]\n",
    "probability = [0.4, 0.4, 0.2, 0.2]\n",
    "\n",
    "# dengan studi kasus selama 100 hari\n",
    "totalDays = 100\n",
    "\n",
    "# perulangan membuat list generatedDonutPerLoucineOrderedByCustomer selama 100 hari menggunakan library RNG\n",
    "generatedDonutPerLoucineOrderedByCustomer = []\n",
    "for i in range(totalDays):\n",
    "    generatedDonutPerLoucineOrderedByCustomer.append(random.choices(donutPerLoucineOrderedByCustomer, probability))\n",
    "\n",
    "# delistify generatedDonutPerLoucineOrderedByCustomer\n",
    "generatedDonutPerLoucineOrderedByCustomer = [item for sublist in generatedDonutPerLoucineOrderedByCustomer for item in sublist]\n",
    "\n",
    "# print sukses\n",
    "print(\"Sukses membuat nilai random donat perlusin perhari percustomer selama 100 hari\")"
   ]
  },
  {
   "cell_type": "markdown",
   "metadata": {},
   "source": [
    "###### a. Rata-rata penjualan donat setiap hari (satuan : lusin) ✅"
   ]
  },
  {
   "cell_type": "markdown",
   "metadata": {},
   "source": [
    "###### Untuk mengetahui rata-rata penjualan donat setiap hari (satuan : lusin) yaitu dengan cara mencari attribut \"penjualan_donat\" terlebih dahulu dimana nilai nya didapat dari ***ada berapa kostumer yang membeli donut*** atau perhitungan lainnya nya dengan cara mencari hasil dari jumlah_customer * jumlah_donat_per_customer.\n",
    "\n",
    "###### Setelah mengetahui ***ada berapa kostumer yang membeli donut*** maka kita bisa langsung mencari nilai rata - rata penjualan donat di setiap harinya.\n",
    "\n",
    "###### Untuk pembuatan attribut jumlah_customer, jumlah_donat_per_customer dan hasil rata - rata dapat dilihat pada simulasi dengan python pada **jawaban poin e**."
   ]
  },
  {
   "cell_type": "markdown",
   "metadata": {},
   "source": [
    "###### b. Rata-rata penjualan donat yang tidak habis terjual ✅"
   ]
  },
  {
   "cell_type": "markdown",
   "metadata": {},
   "source": [
    "###### Diketahui pada soal bahwa tidak ada stok penjualan donat disetiap harinya, maka saya menggunakan nilai rata - rata dari penjualan donat selama 100 hari sebagai **stok penjualan di setiap hari nya**, dengan begitu kita dapat mengetahui attribut ***sisa_penjualan_donat*** untuk nantinya kita cari nilai rata - rata nya.\n",
    "###### Pertama, kita olah nilai penjualan_donat yang kita dapat dari soal poin a, setelah itu kita mencari nilai rata - rata nya dan menjadikan nya sebagai **stok penjualan di setiap hari nya**.\n",
    "###### Setelah mendapatkan nilai rata - rata nya / stok penjual di setiap hari nya, maka kita bisa membuat attribut \"sisa_penjualan_donat\" yang nilainya didapat dari ***ada berapa donat yang kurang dari sama dengan stok penjualan di setiap hari nya yang nantinya stok penjualan di setiap harinya dikurangi dengan masing - masing value yang terpenuhi***, atau perhitungan lainnya nya dengan memfilter nilai yang <= stok penjualan lalu stok penjualan hari ini - nilai yang terfilter. Setelah itu kita menyimpannya pada attribut sisa_penjualan_donat dengan kriteria nilai yang terpenuhi == hasil pengurangan tadi, dan nilai yang tidak terfilter/tidak memenuhi == 0.\n",
    "###### Setelah mengetahui ***ada berapa donat yang kurang dari sama dengan stok penjualan di setiap hari nya yang nantinya stok penjualan di setiap harinya dikurangi dengan masing - masing value yang terpenuhi*** maka kita bisa langsung mencari nilai rata - rata penjualan donat yang tidak habis terjual.\n",
    "###### Untuk pembuatan attribut sisa_penjualan_donat dan hasil rata - rata dapat dilihat pada simulasi dengan python pada **jawaban poin e**."
   ]
  },
  {
   "cell_type": "markdown",
   "metadata": {},
   "source": [
    "###### c. Rata-rata customer membeli berapa lusin donat ✅"
   ]
  },
  {
   "cell_type": "markdown",
   "metadata": {},
   "source": [
    "###### Untuk mengetahui rata - rata customer membeli berapa lusin bisa dilihat pada **jawaban poin e**"
   ]
  },
  {
   "cell_type": "markdown",
   "metadata": {},
   "source": [
    "###### d. Simulasi dengan Excel dan Perhitungan Manual ✅"
   ]
  },
  {
   "cell_type": "markdown",
   "metadata": {},
   "source": [
    "###### ada di file excel bernama \"Simulasi Excel.xlsx\""
   ]
  },
  {
   "cell_type": "markdown",
   "metadata": {},
   "source": [
    "###### e. Simulasi dengan Python ✅"
   ]
  },
  {
   "cell_type": "markdown",
   "metadata": {},
   "source": [
    "###### Jumlah customer perhari : yang didapat dari library RNG diatas"
   ]
  },
  {
   "cell_type": "code",
   "execution_count": 4,
   "metadata": {},
   "outputs": [
    {
     "name": "stdout",
     "output_type": "stream",
     "text": [
      "HASIL GENERATE RANDOM NUMBER\n",
      "Jumlah customer perhari selama 100 hari :  [12, 8, 12, 12, 10, 14, 12, 12, 12, 12, 8, 8, 8, 12, 14, 10, 8, 12, 8, 10, 12, 14, 8, 14, 10, 14, 10, 10, 10, 14, 12, 8, 12, 12, 14, 10, 10, 14, 10, 8, 10, 14, 10, 8, 12, 10, 12, 12, 8, 10, 12, 12, 10, 10, 8, 12, 8, 10, 12, 12, 12, 8, 8, 12, 8, 10, 8, 14, 8, 12, 8, 12, 8, 14, 8, 8, 8, 8, 12, 10, 8, 12, 12, 8, 10, 8, 8, 8, 12, 14, 8, 10, 10, 12, 10, 8, 14, 8, 8, 12]\n",
      "\n",
      "SUMMARY HASIL GENERATE RANDOM NUMBER\n",
      "Simulasi selama : 100  hari\n",
      "8 customer muncul selama 100 hari :  33 x\n",
      "10 customer muncul selama 100 hari :  23 x\n",
      "12 customer muncul selama 100 hari :  31 x\n",
      "14 customer muncul selama 100 hari :  13 x\n",
      "Total customer selama 100 hari :  1048 customer\n"
     ]
    }
   ],
   "source": [
    "# melihat hasil\n",
    "print(\"HASIL GENERATE RANDOM NUMBER\")\n",
    "print(\"Jumlah customer perhari selama 100 hari : \", generatedCustomerPerDay)\n",
    "print()\n",
    "\n",
    "print(\"SUMMARY HASIL GENERATE RANDOM NUMBER\")\n",
    "\n",
    "# simulasi selama 100 hari\n",
    "print(\"Simulasi selama :\", totalDays, \" hari\")\n",
    "\n",
    "# total \"8\" customer\n",
    "total8 = generatedCustomerPerDay.count(8)\n",
    "print(\"8 customer muncul selama 100 hari : \", total8, \"x\")\n",
    "\n",
    "# total \"10\" customer\n",
    "total10 = generatedCustomerPerDay.count(10)\n",
    "print(\"10 customer muncul selama 100 hari : \", total10, \"x\")\n",
    "\n",
    "# total \"12\" customer\n",
    "total12 = generatedCustomerPerDay.count(12)\n",
    "print(\"12 customer muncul selama 100 hari : \", total12, \"x\")\n",
    "\n",
    "# total \"14\" customer\n",
    "total14 = generatedCustomerPerDay.count(14)\n",
    "print(\"14 customer muncul selama 100 hari : \", total14, \"x\")\n",
    "\n",
    "# total customer\n",
    "totalCustomer = sum(generatedCustomerPerDay)\n",
    "print(\"Total customer selama 100 hari : \", totalCustomer, \"customer\")"
   ]
  },
  {
   "cell_type": "markdown",
   "metadata": {},
   "source": [
    "###### Jumlah donat perlusin yang diorder per customer per hari : yang didapat dari library RNG diatas"
   ]
  },
  {
   "cell_type": "code",
   "execution_count": 5,
   "metadata": {},
   "outputs": [
    {
     "name": "stdout",
     "output_type": "stream",
     "text": [
      "HASIL GENERATE RANDOM NUMBER\n",
      "Jumlah donat perlusin percustomer perhari selama 100 hari :  [2, 1, 1, 1, 1, 4, 4, 1, 2, 1, 2, 2, 2, 2, 2, 1, 1, 2, 3, 3, 3, 2, 2, 1, 4, 3, 2, 2, 3, 2, 4, 1, 2, 3, 3, 2, 1, 2, 2, 1, 4, 1, 4, 1, 2, 3, 4, 1, 4, 2, 2, 3, 3, 1, 1, 2, 1, 2, 1, 1, 2, 3, 3, 2, 2, 1, 2, 2, 1, 2, 4, 4, 3, 3, 3, 1, 1, 4, 1, 1, 2, 1, 4, 3, 4, 1, 4, 1, 1, 1, 4, 2, 1, 2, 2, 1, 1, 3, 3, 1]\n",
      "\n",
      "SUMMARY HASIL GENERATE RANDOM NUMBER\n",
      "Simulasi selama : 100  hari\n",
      "1 lusin donat muncul selama 100 hari :  35 x\n",
      "2 lusin donat muncul selama 100 hari :  32 x\n",
      "3 lusin donat muncul selama 100 hari :  18 x\n",
      "4 lusin donat muncul selama 100 hari :  15 x\n",
      "Total donat selama 100 hari :  213 lusin\n"
     ]
    }
   ],
   "source": [
    "# melihat hasil\n",
    "print(\"HASIL GENERATE RANDOM NUMBER\")\n",
    "print(\"Jumlah donat perlusin percustomer perhari selama 100 hari : \", generatedDonutPerLoucineOrderedByCustomer)\n",
    "print()\n",
    "\n",
    "print(\"SUMMARY HASIL GENERATE RANDOM NUMBER\")\n",
    "\n",
    "# simulasi selama 100 hari\n",
    "print(\"Simulasi selama :\", totalDays, \" hari\")\n",
    "\n",
    "# total \"1\" lusin donat\n",
    "total1 = generatedDonutPerLoucineOrderedByCustomer.count(1)\n",
    "print(\"1 lusin donat muncul selama 100 hari : \", total1, \"x\")\n",
    "\n",
    "# total \"2\" lusin donat\n",
    "total2 = generatedDonutPerLoucineOrderedByCustomer.count(2)\n",
    "print(\"2 lusin donat muncul selama 100 hari : \", total2, \"x\")\n",
    "\n",
    "# total \"3\" lusin donat\n",
    "total3 = generatedDonutPerLoucineOrderedByCustomer.count(3)\n",
    "print(\"3 lusin donat muncul selama 100 hari : \", total3, \"x\")\n",
    "\n",
    "# total \"4\" lusin donat\n",
    "total4 = generatedDonutPerLoucineOrderedByCustomer.count(4)\n",
    "print(\"4 lusin donat muncul selama 100 hari : \", total4, \"x\")\n",
    "\n",
    "# total donat\n",
    "totalDonat = sum(generatedDonutPerLoucineOrderedByCustomer)\n",
    "print(\"Total donat selama 100 hari : \", totalDonat, \"lusin\")"
   ]
  },
  {
   "cell_type": "markdown",
   "metadata": {},
   "source": [
    "###### Pembuatan/append attribut \"jumlah_customer\" dan \"jumlah_donat_per_customer\" hasil RNG"
   ]
  },
  {
   "cell_type": "code",
   "execution_count": 6,
   "metadata": {},
   "outputs": [
    {
     "data": {
      "text/html": [
       "<div>\n",
       "<style scoped>\n",
       "    .dataframe tbody tr th:only-of-type {\n",
       "        vertical-align: middle;\n",
       "    }\n",
       "\n",
       "    .dataframe tbody tr th {\n",
       "        vertical-align: top;\n",
       "    }\n",
       "\n",
       "    .dataframe thead th {\n",
       "        text-align: right;\n",
       "    }\n",
       "</style>\n",
       "<table border=\"1\" class=\"dataframe\">\n",
       "  <thead>\n",
       "    <tr style=\"text-align: right;\">\n",
       "      <th></th>\n",
       "      <th>hari</th>\n",
       "      <th>jumlah_customer</th>\n",
       "      <th>jumlah_donat_per_customer</th>\n",
       "    </tr>\n",
       "  </thead>\n",
       "  <tbody>\n",
       "    <tr>\n",
       "      <th>0</th>\n",
       "      <td>1</td>\n",
       "      <td>12</td>\n",
       "      <td>2</td>\n",
       "    </tr>\n",
       "    <tr>\n",
       "      <th>1</th>\n",
       "      <td>2</td>\n",
       "      <td>8</td>\n",
       "      <td>1</td>\n",
       "    </tr>\n",
       "    <tr>\n",
       "      <th>2</th>\n",
       "      <td>3</td>\n",
       "      <td>12</td>\n",
       "      <td>1</td>\n",
       "    </tr>\n",
       "    <tr>\n",
       "      <th>3</th>\n",
       "      <td>4</td>\n",
       "      <td>12</td>\n",
       "      <td>1</td>\n",
       "    </tr>\n",
       "    <tr>\n",
       "      <th>4</th>\n",
       "      <td>5</td>\n",
       "      <td>10</td>\n",
       "      <td>1</td>\n",
       "    </tr>\n",
       "    <tr>\n",
       "      <th>...</th>\n",
       "      <td>...</td>\n",
       "      <td>...</td>\n",
       "      <td>...</td>\n",
       "    </tr>\n",
       "    <tr>\n",
       "      <th>95</th>\n",
       "      <td>96</td>\n",
       "      <td>8</td>\n",
       "      <td>1</td>\n",
       "    </tr>\n",
       "    <tr>\n",
       "      <th>96</th>\n",
       "      <td>97</td>\n",
       "      <td>14</td>\n",
       "      <td>1</td>\n",
       "    </tr>\n",
       "    <tr>\n",
       "      <th>97</th>\n",
       "      <td>98</td>\n",
       "      <td>8</td>\n",
       "      <td>3</td>\n",
       "    </tr>\n",
       "    <tr>\n",
       "      <th>98</th>\n",
       "      <td>99</td>\n",
       "      <td>8</td>\n",
       "      <td>3</td>\n",
       "    </tr>\n",
       "    <tr>\n",
       "      <th>99</th>\n",
       "      <td>100</td>\n",
       "      <td>12</td>\n",
       "      <td>1</td>\n",
       "    </tr>\n",
       "  </tbody>\n",
       "</table>\n",
       "<p>100 rows × 3 columns</p>\n",
       "</div>"
      ],
      "text/plain": [
       "    hari  jumlah_customer  jumlah_donat_per_customer\n",
       "0      1               12                          2\n",
       "1      2                8                          1\n",
       "2      3               12                          1\n",
       "3      4               12                          1\n",
       "4      5               10                          1\n",
       "..   ...              ...                        ...\n",
       "95    96                8                          1\n",
       "96    97               14                          1\n",
       "97    98                8                          3\n",
       "98    99                8                          3\n",
       "99   100               12                          1\n",
       "\n",
       "[100 rows x 3 columns]"
      ]
     },
     "execution_count": 6,
     "metadata": {},
     "output_type": "execute_result"
    }
   ],
   "source": [
    "# append hasil RNG yang telah di generate ke data frame\n",
    "df['jumlah_customer'] = generatedCustomerPerDay\n",
    "df['jumlah_donat_per_customer'] = generatedDonutPerLoucineOrderedByCustomer\n",
    "\n",
    "df.head(100)"
   ]
  },
  {
   "cell_type": "markdown",
   "metadata": {},
   "source": [
    "###### Pembuatan/append attribut \"penjualan_donat\" hasil perkalian dari attribut \"jumlah_customer\" dengan \"jumlah_donat_per_customer\""
   ]
  },
  {
   "cell_type": "code",
   "execution_count": 7,
   "metadata": {},
   "outputs": [
    {
     "data": {
      "text/html": [
       "<div>\n",
       "<style scoped>\n",
       "    .dataframe tbody tr th:only-of-type {\n",
       "        vertical-align: middle;\n",
       "    }\n",
       "\n",
       "    .dataframe tbody tr th {\n",
       "        vertical-align: top;\n",
       "    }\n",
       "\n",
       "    .dataframe thead th {\n",
       "        text-align: right;\n",
       "    }\n",
       "</style>\n",
       "<table border=\"1\" class=\"dataframe\">\n",
       "  <thead>\n",
       "    <tr style=\"text-align: right;\">\n",
       "      <th></th>\n",
       "      <th>hari</th>\n",
       "      <th>jumlah_customer</th>\n",
       "      <th>jumlah_donat_per_customer</th>\n",
       "      <th>penjualan_donat</th>\n",
       "    </tr>\n",
       "  </thead>\n",
       "  <tbody>\n",
       "    <tr>\n",
       "      <th>0</th>\n",
       "      <td>1</td>\n",
       "      <td>12</td>\n",
       "      <td>2</td>\n",
       "      <td>24</td>\n",
       "    </tr>\n",
       "    <tr>\n",
       "      <th>1</th>\n",
       "      <td>2</td>\n",
       "      <td>8</td>\n",
       "      <td>1</td>\n",
       "      <td>8</td>\n",
       "    </tr>\n",
       "    <tr>\n",
       "      <th>2</th>\n",
       "      <td>3</td>\n",
       "      <td>12</td>\n",
       "      <td>1</td>\n",
       "      <td>12</td>\n",
       "    </tr>\n",
       "    <tr>\n",
       "      <th>3</th>\n",
       "      <td>4</td>\n",
       "      <td>12</td>\n",
       "      <td>1</td>\n",
       "      <td>12</td>\n",
       "    </tr>\n",
       "    <tr>\n",
       "      <th>4</th>\n",
       "      <td>5</td>\n",
       "      <td>10</td>\n",
       "      <td>1</td>\n",
       "      <td>10</td>\n",
       "    </tr>\n",
       "    <tr>\n",
       "      <th>...</th>\n",
       "      <td>...</td>\n",
       "      <td>...</td>\n",
       "      <td>...</td>\n",
       "      <td>...</td>\n",
       "    </tr>\n",
       "    <tr>\n",
       "      <th>95</th>\n",
       "      <td>96</td>\n",
       "      <td>8</td>\n",
       "      <td>1</td>\n",
       "      <td>8</td>\n",
       "    </tr>\n",
       "    <tr>\n",
       "      <th>96</th>\n",
       "      <td>97</td>\n",
       "      <td>14</td>\n",
       "      <td>1</td>\n",
       "      <td>14</td>\n",
       "    </tr>\n",
       "    <tr>\n",
       "      <th>97</th>\n",
       "      <td>98</td>\n",
       "      <td>8</td>\n",
       "      <td>3</td>\n",
       "      <td>24</td>\n",
       "    </tr>\n",
       "    <tr>\n",
       "      <th>98</th>\n",
       "      <td>99</td>\n",
       "      <td>8</td>\n",
       "      <td>3</td>\n",
       "      <td>24</td>\n",
       "    </tr>\n",
       "    <tr>\n",
       "      <th>99</th>\n",
       "      <td>100</td>\n",
       "      <td>12</td>\n",
       "      <td>1</td>\n",
       "      <td>12</td>\n",
       "    </tr>\n",
       "  </tbody>\n",
       "</table>\n",
       "<p>100 rows × 4 columns</p>\n",
       "</div>"
      ],
      "text/plain": [
       "    hari  jumlah_customer  jumlah_donat_per_customer  penjualan_donat\n",
       "0      1               12                          2               24\n",
       "1      2                8                          1                8\n",
       "2      3               12                          1               12\n",
       "3      4               12                          1               12\n",
       "4      5               10                          1               10\n",
       "..   ...              ...                        ...              ...\n",
       "95    96                8                          1                8\n",
       "96    97               14                          1               14\n",
       "97    98                8                          3               24\n",
       "98    99                8                          3               24\n",
       "99   100               12                          1               12\n",
       "\n",
       "[100 rows x 4 columns]"
      ]
     },
     "execution_count": 7,
     "metadata": {},
     "output_type": "execute_result"
    }
   ],
   "source": [
    "# append hasil ke data frame\n",
    "df['penjualan_donat'] = df['jumlah_customer'] * df['jumlah_donat_per_customer']\n",
    "\n",
    "df.head(100)"
   ]
  },
  {
   "cell_type": "markdown",
   "metadata": {},
   "source": [
    "######  Rata - rata penjualan donat setiap hari (satuan : lusin) ✅"
   ]
  },
  {
   "cell_type": "code",
   "execution_count": 8,
   "metadata": {},
   "outputs": [
    {
     "name": "stdout",
     "output_type": "stream",
     "text": [
      "Rata - rata penjualan donat setiap hari :  22.24 lusin\n"
     ]
    }
   ],
   "source": [
    "# perhitungan rata - rata (satuan lusin) penjualan donat\n",
    "rataRataPenjualanDonat = df['penjualan_donat'].mean()\n",
    "\n",
    "print(\"Rata - rata penjualan donat setiap hari : \", rataRataPenjualanDonat, \"lusin\")"
   ]
  },
  {
   "cell_type": "markdown",
   "metadata": {},
   "source": [
    "###### Mencari nilai rata - rata penjualan donat, membulatkannya, dan menjadikannya sebagai patokan stok penjualan setiap hari"
   ]
  },
  {
   "cell_type": "code",
   "execution_count": 9,
   "metadata": {},
   "outputs": [
    {
     "name": "stdout",
     "output_type": "stream",
     "text": [
      "Stok penjualan donat setiap hari :  22 lusin\n"
     ]
    }
   ],
   "source": [
    "# code sama seperti cell diatas\n",
    "# stok penjualan disetiap harinya diambil dari rata - rata penjualan donat\n",
    "stokPenjualanDonat = df['penjualan_donat'].mean()\n",
    "\n",
    "# pembulatan stock penjualan donat\n",
    "stokPenjualanDonat = round(stokPenjualanDonat)\n",
    "print(\"Stok penjualan donat setiap hari : \", stokPenjualanDonat, \"lusin\")"
   ]
  },
  {
   "cell_type": "markdown",
   "metadata": {},
   "source": [
    "###### Pembuatan/append attribut \"sisa_penjualan_donat\""
   ]
  },
  {
   "cell_type": "code",
   "execution_count": 10,
   "metadata": {},
   "outputs": [
    {
     "data": {
      "text/html": [
       "<div>\n",
       "<style scoped>\n",
       "    .dataframe tbody tr th:only-of-type {\n",
       "        vertical-align: middle;\n",
       "    }\n",
       "\n",
       "    .dataframe tbody tr th {\n",
       "        vertical-align: top;\n",
       "    }\n",
       "\n",
       "    .dataframe thead th {\n",
       "        text-align: right;\n",
       "    }\n",
       "</style>\n",
       "<table border=\"1\" class=\"dataframe\">\n",
       "  <thead>\n",
       "    <tr style=\"text-align: right;\">\n",
       "      <th></th>\n",
       "      <th>hari</th>\n",
       "      <th>jumlah_customer</th>\n",
       "      <th>jumlah_donat_per_customer</th>\n",
       "      <th>penjualan_donat</th>\n",
       "      <th>sisa_penjualan_donat</th>\n",
       "    </tr>\n",
       "  </thead>\n",
       "  <tbody>\n",
       "    <tr>\n",
       "      <th>0</th>\n",
       "      <td>1</td>\n",
       "      <td>12</td>\n",
       "      <td>2</td>\n",
       "      <td>24</td>\n",
       "      <td>0</td>\n",
       "    </tr>\n",
       "    <tr>\n",
       "      <th>1</th>\n",
       "      <td>2</td>\n",
       "      <td>8</td>\n",
       "      <td>1</td>\n",
       "      <td>8</td>\n",
       "      <td>14</td>\n",
       "    </tr>\n",
       "    <tr>\n",
       "      <th>2</th>\n",
       "      <td>3</td>\n",
       "      <td>12</td>\n",
       "      <td>1</td>\n",
       "      <td>12</td>\n",
       "      <td>10</td>\n",
       "    </tr>\n",
       "    <tr>\n",
       "      <th>3</th>\n",
       "      <td>4</td>\n",
       "      <td>12</td>\n",
       "      <td>1</td>\n",
       "      <td>12</td>\n",
       "      <td>10</td>\n",
       "    </tr>\n",
       "    <tr>\n",
       "      <th>4</th>\n",
       "      <td>5</td>\n",
       "      <td>10</td>\n",
       "      <td>1</td>\n",
       "      <td>10</td>\n",
       "      <td>12</td>\n",
       "    </tr>\n",
       "    <tr>\n",
       "      <th>...</th>\n",
       "      <td>...</td>\n",
       "      <td>...</td>\n",
       "      <td>...</td>\n",
       "      <td>...</td>\n",
       "      <td>...</td>\n",
       "    </tr>\n",
       "    <tr>\n",
       "      <th>95</th>\n",
       "      <td>96</td>\n",
       "      <td>8</td>\n",
       "      <td>1</td>\n",
       "      <td>8</td>\n",
       "      <td>14</td>\n",
       "    </tr>\n",
       "    <tr>\n",
       "      <th>96</th>\n",
       "      <td>97</td>\n",
       "      <td>14</td>\n",
       "      <td>1</td>\n",
       "      <td>14</td>\n",
       "      <td>8</td>\n",
       "    </tr>\n",
       "    <tr>\n",
       "      <th>97</th>\n",
       "      <td>98</td>\n",
       "      <td>8</td>\n",
       "      <td>3</td>\n",
       "      <td>24</td>\n",
       "      <td>0</td>\n",
       "    </tr>\n",
       "    <tr>\n",
       "      <th>98</th>\n",
       "      <td>99</td>\n",
       "      <td>8</td>\n",
       "      <td>3</td>\n",
       "      <td>24</td>\n",
       "      <td>0</td>\n",
       "    </tr>\n",
       "    <tr>\n",
       "      <th>99</th>\n",
       "      <td>100</td>\n",
       "      <td>12</td>\n",
       "      <td>1</td>\n",
       "      <td>12</td>\n",
       "      <td>10</td>\n",
       "    </tr>\n",
       "  </tbody>\n",
       "</table>\n",
       "<p>100 rows × 5 columns</p>\n",
       "</div>"
      ],
      "text/plain": [
       "    hari  jumlah_customer  jumlah_donat_per_customer  penjualan_donat  \\\n",
       "0      1               12                          2               24   \n",
       "1      2                8                          1                8   \n",
       "2      3               12                          1               12   \n",
       "3      4               12                          1               12   \n",
       "4      5               10                          1               10   \n",
       "..   ...              ...                        ...              ...   \n",
       "95    96                8                          1                8   \n",
       "96    97               14                          1               14   \n",
       "97    98                8                          3               24   \n",
       "98    99                8                          3               24   \n",
       "99   100               12                          1               12   \n",
       "\n",
       "    sisa_penjualan_donat  \n",
       "0                      0  \n",
       "1                     14  \n",
       "2                     10  \n",
       "3                     10  \n",
       "4                     12  \n",
       "..                   ...  \n",
       "95                    14  \n",
       "96                     8  \n",
       "97                     0  \n",
       "98                     0  \n",
       "99                    10  \n",
       "\n",
       "[100 rows x 5 columns]"
      ]
     },
     "execution_count": 10,
     "metadata": {},
     "output_type": "execute_result"
    }
   ],
   "source": [
    "# sisa penjualan donat\n",
    "df['sisa_penjualan_donat'] = df['penjualan_donat'].apply(lambda x: stokPenjualanDonat - x if x <= stokPenjualanDonat else 0)\n",
    "\n",
    "df.head(100)"
   ]
  },
  {
   "cell_type": "markdown",
   "metadata": {},
   "source": [
    "######  Rata-rata penjualan donat yang tidak habis terjual ✅"
   ]
  },
  {
   "cell_type": "code",
   "execution_count": 11,
   "metadata": {},
   "outputs": [
    {
     "name": "stdout",
     "output_type": "stream",
     "text": [
      "Rata - rata penjualan donat yang tidak habis terjual :  4.66 lusin\n"
     ]
    }
   ],
   "source": [
    "# rata - rata sisa penjualan donat di setiap hari nya\n",
    "rataRataSisaPenjualanDonat = df['sisa_penjualan_donat'].mean()\n",
    "\n",
    "# menampilkan hasil\n",
    "print(\"Rata - rata penjualan donat yang tidak habis terjual : \", rataRataSisaPenjualanDonat, \"lusin\")"
   ]
  },
  {
   "cell_type": "markdown",
   "metadata": {},
   "source": [
    "###### Filtering berapa customer yang membeli setiap lusin donat, dan append sebagai kolom baru"
   ]
  },
  {
   "cell_type": "code",
   "execution_count": 12,
   "metadata": {},
   "outputs": [
    {
     "data": {
      "text/html": [
       "<div>\n",
       "<style scoped>\n",
       "    .dataframe tbody tr th:only-of-type {\n",
       "        vertical-align: middle;\n",
       "    }\n",
       "\n",
       "    .dataframe tbody tr th {\n",
       "        vertical-align: top;\n",
       "    }\n",
       "\n",
       "    .dataframe thead th {\n",
       "        text-align: right;\n",
       "    }\n",
       "</style>\n",
       "<table border=\"1\" class=\"dataframe\">\n",
       "  <thead>\n",
       "    <tr style=\"text-align: right;\">\n",
       "      <th></th>\n",
       "      <th>hari</th>\n",
       "      <th>jumlah_customer</th>\n",
       "      <th>jumlah_donat_per_customer</th>\n",
       "      <th>penjualan_donat</th>\n",
       "      <th>sisa_penjualan_donat</th>\n",
       "      <th>1_lusin_donat</th>\n",
       "      <th>2_lusin_donat</th>\n",
       "      <th>3_lusin_donat</th>\n",
       "      <th>4_lusin_donat</th>\n",
       "    </tr>\n",
       "  </thead>\n",
       "  <tbody>\n",
       "    <tr>\n",
       "      <th>0</th>\n",
       "      <td>1</td>\n",
       "      <td>12</td>\n",
       "      <td>2</td>\n",
       "      <td>24</td>\n",
       "      <td>0</td>\n",
       "      <td>0</td>\n",
       "      <td>1</td>\n",
       "      <td>0</td>\n",
       "      <td>0</td>\n",
       "    </tr>\n",
       "    <tr>\n",
       "      <th>1</th>\n",
       "      <td>2</td>\n",
       "      <td>8</td>\n",
       "      <td>1</td>\n",
       "      <td>8</td>\n",
       "      <td>14</td>\n",
       "      <td>1</td>\n",
       "      <td>0</td>\n",
       "      <td>0</td>\n",
       "      <td>0</td>\n",
       "    </tr>\n",
       "    <tr>\n",
       "      <th>2</th>\n",
       "      <td>3</td>\n",
       "      <td>12</td>\n",
       "      <td>1</td>\n",
       "      <td>12</td>\n",
       "      <td>10</td>\n",
       "      <td>1</td>\n",
       "      <td>0</td>\n",
       "      <td>0</td>\n",
       "      <td>0</td>\n",
       "    </tr>\n",
       "    <tr>\n",
       "      <th>3</th>\n",
       "      <td>4</td>\n",
       "      <td>12</td>\n",
       "      <td>1</td>\n",
       "      <td>12</td>\n",
       "      <td>10</td>\n",
       "      <td>1</td>\n",
       "      <td>0</td>\n",
       "      <td>0</td>\n",
       "      <td>0</td>\n",
       "    </tr>\n",
       "    <tr>\n",
       "      <th>4</th>\n",
       "      <td>5</td>\n",
       "      <td>10</td>\n",
       "      <td>1</td>\n",
       "      <td>10</td>\n",
       "      <td>12</td>\n",
       "      <td>1</td>\n",
       "      <td>0</td>\n",
       "      <td>0</td>\n",
       "      <td>0</td>\n",
       "    </tr>\n",
       "    <tr>\n",
       "      <th>...</th>\n",
       "      <td>...</td>\n",
       "      <td>...</td>\n",
       "      <td>...</td>\n",
       "      <td>...</td>\n",
       "      <td>...</td>\n",
       "      <td>...</td>\n",
       "      <td>...</td>\n",
       "      <td>...</td>\n",
       "      <td>...</td>\n",
       "    </tr>\n",
       "    <tr>\n",
       "      <th>95</th>\n",
       "      <td>96</td>\n",
       "      <td>8</td>\n",
       "      <td>1</td>\n",
       "      <td>8</td>\n",
       "      <td>14</td>\n",
       "      <td>1</td>\n",
       "      <td>0</td>\n",
       "      <td>0</td>\n",
       "      <td>0</td>\n",
       "    </tr>\n",
       "    <tr>\n",
       "      <th>96</th>\n",
       "      <td>97</td>\n",
       "      <td>14</td>\n",
       "      <td>1</td>\n",
       "      <td>14</td>\n",
       "      <td>8</td>\n",
       "      <td>1</td>\n",
       "      <td>0</td>\n",
       "      <td>0</td>\n",
       "      <td>0</td>\n",
       "    </tr>\n",
       "    <tr>\n",
       "      <th>97</th>\n",
       "      <td>98</td>\n",
       "      <td>8</td>\n",
       "      <td>3</td>\n",
       "      <td>24</td>\n",
       "      <td>0</td>\n",
       "      <td>0</td>\n",
       "      <td>0</td>\n",
       "      <td>1</td>\n",
       "      <td>0</td>\n",
       "    </tr>\n",
       "    <tr>\n",
       "      <th>98</th>\n",
       "      <td>99</td>\n",
       "      <td>8</td>\n",
       "      <td>3</td>\n",
       "      <td>24</td>\n",
       "      <td>0</td>\n",
       "      <td>0</td>\n",
       "      <td>0</td>\n",
       "      <td>1</td>\n",
       "      <td>0</td>\n",
       "    </tr>\n",
       "    <tr>\n",
       "      <th>99</th>\n",
       "      <td>100</td>\n",
       "      <td>12</td>\n",
       "      <td>1</td>\n",
       "      <td>12</td>\n",
       "      <td>10</td>\n",
       "      <td>1</td>\n",
       "      <td>0</td>\n",
       "      <td>0</td>\n",
       "      <td>0</td>\n",
       "    </tr>\n",
       "  </tbody>\n",
       "</table>\n",
       "<p>100 rows × 9 columns</p>\n",
       "</div>"
      ],
      "text/plain": [
       "    hari  jumlah_customer  jumlah_donat_per_customer  penjualan_donat  \\\n",
       "0      1               12                          2               24   \n",
       "1      2                8                          1                8   \n",
       "2      3               12                          1               12   \n",
       "3      4               12                          1               12   \n",
       "4      5               10                          1               10   \n",
       "..   ...              ...                        ...              ...   \n",
       "95    96                8                          1                8   \n",
       "96    97               14                          1               14   \n",
       "97    98                8                          3               24   \n",
       "98    99                8                          3               24   \n",
       "99   100               12                          1               12   \n",
       "\n",
       "    sisa_penjualan_donat  1_lusin_donat  2_lusin_donat  3_lusin_donat  \\\n",
       "0                      0              0              1              0   \n",
       "1                     14              1              0              0   \n",
       "2                     10              1              0              0   \n",
       "3                     10              1              0              0   \n",
       "4                     12              1              0              0   \n",
       "..                   ...            ...            ...            ...   \n",
       "95                    14              1              0              0   \n",
       "96                     8              1              0              0   \n",
       "97                     0              0              0              1   \n",
       "98                     0              0              0              1   \n",
       "99                    10              1              0              0   \n",
       "\n",
       "    4_lusin_donat  \n",
       "0               0  \n",
       "1               0  \n",
       "2               0  \n",
       "3               0  \n",
       "4               0  \n",
       "..            ...  \n",
       "95              0  \n",
       "96              0  \n",
       "97              0  \n",
       "98              0  \n",
       "99              0  \n",
       "\n",
       "[100 rows x 9 columns]"
      ]
     },
     "execution_count": 12,
     "metadata": {},
     "output_type": "execute_result"
    }
   ],
   "source": [
    "# filter value \"1\" lusin donat and create new column \"1_lusin_donat\"\n",
    "df['1_lusin_donat'] = df['jumlah_donat_per_customer'].apply(lambda x: 1 if x == 1 else 0)\n",
    "\n",
    "# filter value \"2\" lusin donat and create new column \"2_lusin_donat\"\n",
    "df['2_lusin_donat'] = df['jumlah_donat_per_customer'].apply(lambda x: 1 if x == 2 else 0)\n",
    "\n",
    "# filter value \"3\" lusin donat and create new column \"3_lusin_donat\"\n",
    "df['3_lusin_donat'] = df['jumlah_donat_per_customer'].apply(lambda x: 1 if x == 3 else 0)\n",
    "\n",
    "# filter value \"4\" lusin donat and create new column \"4_lusin_donat\"\n",
    "df['4_lusin_donat'] = df['jumlah_donat_per_customer'].apply(lambda x: 1 if x == 4 else 0)\n",
    "\n",
    "df.head(100)\n",
    "\n"
   ]
  },
  {
   "cell_type": "markdown",
   "metadata": {},
   "source": [
    "###### Rata-rata customer membeli berapa lusin donat ✅"
   ]
  },
  {
   "cell_type": "code",
   "execution_count": 13,
   "metadata": {},
   "outputs": [
    {
     "name": "stdout",
     "output_type": "stream",
     "text": [
      "Rata - rata customer yang membeli 1 lusin donat :  0.35\n",
      "Rata - rata customer yang membeli 2 lusin donat :  0.32\n",
      "Rata - rata customer yang membeli 3 lusin donat :  0.18\n",
      "Rata - rata customer yang membeli 4 lusin donat :  0.15\n",
      "\n",
      "Maka, didapat hasil tertinggi diantara 1 - 4 lusin donat sebagai rata-rata customer membeli berapa lusin donat\n"
     ]
    }
   ],
   "source": [
    "# average 1 lusin donat\n",
    "rataRata1LusinDonat = df['1_lusin_donat'].mean()\n",
    "print(\"Rata - rata customer yang membeli 1 lusin donat : \", rataRata1LusinDonat)\n",
    "\n",
    "# average 2 lusin donat\n",
    "rataRata2LusinDonat = df['2_lusin_donat'].mean()\n",
    "print(\"Rata - rata customer yang membeli 2 lusin donat : \", rataRata2LusinDonat)\n",
    "\n",
    "# average 3 lusin donat\n",
    "rataRata3LusinDonat = df['3_lusin_donat'].mean()\n",
    "print(\"Rata - rata customer yang membeli 3 lusin donat : \", rataRata3LusinDonat)\n",
    "\n",
    "# average 4 lusin donat\n",
    "rataRata4LusinDonat = df['4_lusin_donat'].mean()\n",
    "print(\"Rata - rata customer yang membeli 4 lusin donat : \", rataRata4LusinDonat)\n",
    "print()\n",
    "\n",
    "print(\"Maka, didapat hasil tertinggi diantara 1 - 4 lusin donat sebagai rata-rata customer membeli berapa lusin donat\", )"
   ]
  },
  {
   "cell_type": "markdown",
   "metadata": {},
   "source": [
    "###### Simpan hasil akhir dataset sebagai \"output_donat.csv\""
   ]
  },
  {
   "cell_type": "code",
   "execution_count": 14,
   "metadata": {},
   "outputs": [],
   "source": [
    "# menyimpan hasil dataframe ke file csv\n",
    "df.to_csv('Dataset Donat/output_donat.csv', sep=';', index=False)"
   ]
  },
  {
   "cell_type": "markdown",
   "metadata": {},
   "source": [
    "#### IV. Jawaban Nomor 2"
   ]
  },
  {
   "cell_type": "markdown",
   "metadata": {},
   "source": []
  },
  {
   "cell_type": "code",
   "execution_count": null,
   "metadata": {},
   "outputs": [],
   "source": []
  }
 ],
 "metadata": {
  "interpreter": {
   "hash": "12423ea4f6087177fed350966864bfad756167214050108e94400242cdddf092"
  },
  "kernelspec": {
   "display_name": "Python 3.10.1 64-bit",
   "language": "python",
   "name": "python3"
  },
  "language_info": {
   "codemirror_mode": {
    "name": "ipython",
    "version": 3
   },
   "file_extension": ".py",
   "mimetype": "text/x-python",
   "name": "python",
   "nbconvert_exporter": "python",
   "pygments_lexer": "ipython3",
   "version": "3.10.1"
  },
  "orig_nbformat": 4
 },
 "nbformat": 4,
 "nbformat_minor": 2
}
